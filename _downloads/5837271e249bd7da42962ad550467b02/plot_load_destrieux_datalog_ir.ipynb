{
  "cells": [
    {
      "cell_type": "code",
      "execution_count": null,
      "metadata": {
        "collapsed": false
      },
      "outputs": [],
      "source": [
        "%matplotlib inline"
      ]
    },
    {
      "cell_type": "markdown",
      "metadata": {},
      "source": [
        "\n# Datalog Intermediate Representation Example based on the Destrieux Atlas\n\n\nUploading the Destrieux left sulci into NeuroLang and\nexecuting some simple queries.\n"
      ]
    },
    {
      "cell_type": "code",
      "execution_count": null,
      "metadata": {
        "collapsed": false
      },
      "outputs": [],
      "source": [
        "import nilearn\nimport numpy as np\nfrom matplotlib import pyplot as plt\nfrom nilearn import plotting\n\nimport nibabel as nib\nfrom neurolang.datalog.chase import Chase\nfrom neurolang import expression_walker as ew\nfrom neurolang import expressions, region_solver, regions\nfrom neurolang.datalog import DatalogProgram\nfrom neurolang.datalog.expressions import Fact, Implication, TranslateToLogic"
      ]
    },
    {
      "cell_type": "markdown",
      "metadata": {},
      "source": [
        "Set up IR shortcuts\n\n"
      ]
    },
    {
      "cell_type": "code",
      "execution_count": null,
      "metadata": {
        "collapsed": false
      },
      "outputs": [],
      "source": [
        "C_ = expressions.Constant\nS_ = expressions.Symbol\nImp_ = Implication\nFact_ = Fact\nEb_ = expressions.ExpressionBlock"
      ]
    },
    {
      "cell_type": "markdown",
      "metadata": {},
      "source": [
        "## Load the Destrieux example from nilearn as a fact list\n\n"
      ]
    },
    {
      "cell_type": "code",
      "execution_count": null,
      "metadata": {
        "collapsed": false
      },
      "outputs": [],
      "source": [
        "atlas_destrieux = nilearn.datasets.fetch_atlas_destrieux_2009()\n\nimage = nib.load(atlas_destrieux['maps'])\nimage_data = image.get_data()"
      ]
    },
    {
      "cell_type": "markdown",
      "metadata": {},
      "source": [
        "Load the regions into Voxel-style regions\n\n"
      ]
    },
    {
      "cell_type": "code",
      "execution_count": null,
      "metadata": {
        "collapsed": false
      },
      "outputs": [],
      "source": [
        "region_dict = {}\nfor label, name in atlas_destrieux['labels']:\n    if label == 0:\n        continue\n\n    voxels = np.transpose((image_data == label).nonzero())\n    if voxels.shape[0] == 0:\n        continue\n\n    r = regions.ExplicitVBR(\n            voxels,\n            image.affine, image_dim=image.shape\n    )\n    region_dict[name.decode('utf8')] = r\n\nplotting.plot_roi(region_dict['L S_temporal_sup'].spatial_image())"
      ]
    },
    {
      "cell_type": "markdown",
      "metadata": {},
      "source": [
        "Make the fact list\n\n"
      ]
    },
    {
      "cell_type": "code",
      "execution_count": null,
      "metadata": {
        "collapsed": false
      },
      "outputs": [],
      "source": [
        "destrieux = S_('Destrieux')\ndestrieux_facts = [\n    Fact_(destrieux(\n        C_(name),\n        C_(region)\n    ))\n    for name, region in region_dict.items()\n]"
      ]
    },
    {
      "cell_type": "markdown",
      "metadata": {},
      "source": [
        "## Set the datalog interpreter with Region-managing builtins and adding lh, lr\n\n"
      ]
    },
    {
      "cell_type": "code",
      "execution_count": null,
      "metadata": {
        "collapsed": false
      },
      "outputs": [],
      "source": [
        "class Datalog(\n    region_solver.RegionSolver,\n    TranslateToLogic,\n    DatalogProgram,\n    ew.ExpressionBasicEvaluator\n):\n    def function_lh(self, x: str) -> bool:\n        return x.startswith('L ')\n\n    def function_rh(self, x: str) -> bool:\n        return x.startswith('R ')"
      ]
    },
    {
      "cell_type": "markdown",
      "metadata": {},
      "source": [
        "## Construct a query\nsuperior_sts_l(name, r) :- destrieux('L S_temporal_sup', superior_sts_l),\n                     anatomical_superior_of(r, superior_sts_l),\n                     lh(name), destrieux(name, r)\n\n"
      ]
    },
    {
      "cell_type": "code",
      "execution_count": null,
      "metadata": {
        "collapsed": false
      },
      "outputs": [],
      "source": [
        "superior_sts_l = S_('region_l_sts')\nr = S_('r')\nname = S_('name')\n\nr1 = Imp_(\n    S_('superior_sts_l')(name, r),\n    destrieux(C_('L S_temporal_sup'), superior_sts_l) &\n    S_('anatomical_superior_of')(r, superior_sts_l) &\n    S_('lh')(name) &\n    destrieux(name, r)\n)\n\nprint(r1)\n\ndatalog_program = Eb_(\n    destrieux_facts + [\n        r1,\n    ]\n)"
      ]
    },
    {
      "cell_type": "markdown",
      "metadata": {},
      "source": [
        "## Interpreting and running the query\n\n"
      ]
    },
    {
      "cell_type": "code",
      "execution_count": null,
      "metadata": {
        "collapsed": false
      },
      "outputs": [],
      "source": [
        "dl = Datalog()\ndl.walk(datalog_program)\nsolution = Chase(dl).build_chase_solution()"
      ]
    },
    {
      "cell_type": "markdown",
      "metadata": {},
      "source": [
        "Extracting the results from the intermediate representation to a python set\nand plotting the first element of the result\n\n"
      ]
    },
    {
      "cell_type": "code",
      "execution_count": null,
      "metadata": {
        "collapsed": false
      },
      "outputs": [],
      "source": [
        "rsbv = ew.ReplaceExpressionsByValues({})\nresult = rsbv.walk(solution['superior_sts_l'])\n\nfor name, region in result.unwrapped_iter():\n    plt.figure()\n    plotting.plot_roi(region.spatial_image(), title=name)"
      ]
    }
  ],
  "metadata": {
    "kernelspec": {
      "display_name": "Python 3",
      "language": "python",
      "name": "python3"
    },
    "language_info": {
      "codemirror_mode": {
        "name": "ipython",
        "version": 3
      },
      "file_extension": ".py",
      "mimetype": "text/x-python",
      "name": "python",
      "nbconvert_exporter": "python",
      "pygments_lexer": "ipython3",
      "version": "3.7.9"
    }
  },
  "nbformat": 4,
  "nbformat_minor": 0
}