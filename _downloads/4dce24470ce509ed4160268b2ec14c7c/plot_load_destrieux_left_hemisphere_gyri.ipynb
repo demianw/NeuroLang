{
  "cells": [
    {
      "cell_type": "code",
      "execution_count": null,
      "metadata": {
        "collapsed": false
      },
      "outputs": [],
      "source": [
        "%matplotlib inline"
      ]
    },
    {
      "cell_type": "markdown",
      "metadata": {},
      "source": [
        "\n# Loading and Querying the Destrieux et al. Atlas' Left Hemisphere\n\n\nUploading the Destrieux regions NeuroLang and\nexecuting a simple query.\n"
      ]
    },
    {
      "cell_type": "code",
      "execution_count": null,
      "metadata": {
        "collapsed": false
      },
      "outputs": [],
      "source": [
        "from matplotlib import pyplot as plt\nimport nibabel as nib\nfrom nilearn import datasets, plotting\nfrom neurolang.frontend import NeurolangDL"
      ]
    },
    {
      "cell_type": "markdown",
      "metadata": {},
      "source": [
        "Initialise the NeuroLang probabilistic engine.\n\n"
      ]
    },
    {
      "cell_type": "code",
      "execution_count": null,
      "metadata": {
        "collapsed": false
      },
      "outputs": [],
      "source": [
        "nl = NeurolangDL()"
      ]
    },
    {
      "cell_type": "markdown",
      "metadata": {},
      "source": [
        "Load the Destrieux example from nilearn as a fact list\n\n"
      ]
    },
    {
      "cell_type": "code",
      "execution_count": null,
      "metadata": {
        "collapsed": false
      },
      "outputs": [],
      "source": [
        "atlas_destrieux = datasets.fetch_atlas_destrieux_2009()\natlas_labels = {\n    label: str(name.decode('utf8'))\n    for label, name in atlas_destrieux['labels']\n}\n\n\nnl.add_atlas_set('destrieux_atlas', atlas_labels, nib.load(atlas_destrieux['maps']))"
      ]
    },
    {
      "cell_type": "markdown",
      "metadata": {},
      "source": [
        "Add utility function\n\n"
      ]
    },
    {
      "cell_type": "code",
      "execution_count": null,
      "metadata": {
        "collapsed": false
      },
      "outputs": [],
      "source": [
        "@nl.add_symbol\ndef startswith(prefix: str, s: str) -> bool:\n    return s.startswith(prefix)"
      ]
    },
    {
      "cell_type": "markdown",
      "metadata": {},
      "source": [
        "Query all left hemisphere regions superior to the temporal superior sulucs\nand anterior to the central sulcus\n\n"
      ]
    },
    {
      "cell_type": "code",
      "execution_count": null,
      "metadata": {
        "collapsed": false
      },
      "outputs": [],
      "source": [
        "with nl.scope as e:\n    e.on_left_hemisphere[e.x] = (\n            e.destrieux_atlas(e.l, e.x) & e.startswith('L S', e.l)\n    )\n\n    result = nl.query((e.r,), e.on_left_hemisphere(e.r))"
      ]
    },
    {
      "cell_type": "markdown",
      "metadata": {},
      "source": [
        "Visualise results\n\n"
      ]
    },
    {
      "cell_type": "code",
      "execution_count": null,
      "metadata": {
        "collapsed": false
      },
      "outputs": [],
      "source": [
        "subplots = plt.subplots(\n    nrows=len(result), ncols=1,\n    figsize=(10, 5 * len(result))\n)[1]\n\nfor (r, subplot) in zip(result, subplots):\n    region = r[0]\n    plotting.plot_roi(region.spatial_image(), axes=subplot)"
      ]
    }
  ],
  "metadata": {
    "kernelspec": {
      "display_name": "Python 3",
      "language": "python",
      "name": "python3"
    },
    "language_info": {
      "codemirror_mode": {
        "name": "ipython",
        "version": 3
      },
      "file_extension": ".py",
      "mimetype": "text/x-python",
      "name": "python",
      "nbconvert_exporter": "python",
      "pygments_lexer": "ipython3",
      "version": "3.7.9"
    }
  },
  "nbformat": 4,
  "nbformat_minor": 0
}